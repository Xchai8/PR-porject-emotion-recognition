{
 "cells": [
  {
   "cell_type": "code",
   "execution_count": 1,
   "id": "43f9b8e5-69d2-4dfa-86e8-db161e579122",
   "metadata": {},
   "outputs": [],
   "source": [
    "import numpy as np\n",
    "import matplotlib.pyplot as plt\n",
    "import pandas as pd"
   ]
  },
  {
   "cell_type": "code",
   "execution_count": 2,
   "id": "715d1729-cb2d-466f-8426-da8884725499",
   "metadata": {},
   "outputs": [
    {
     "data": {
      "text/plain": [
       "((72360, 310),\n",
       " (49824, 310),\n",
       " (5, 72360, 62),\n",
       " (5, 49824, 62),\n",
       " (72360,),\n",
       " (49824,))"
      ]
     },
     "execution_count": 2,
     "metadata": {},
     "output_type": "execute_result"
    }
   ],
   "source": [
    "# Load the dataset\n",
    "train_data = np.load('Available data/train_data.npy')\n",
    "train_data_split = np.load('Available data/train_data_split.npy')\n",
    "test_data = np.load('Available data/test_data.npy')\n",
    "test_data_split = np.load('Available data/test_data_split.npy')\n",
    "train_label = np.load('Available data/train_label.npy')\n",
    "test_label = np.load('Available data/test_label.npy')\n",
    "\n",
    "EEG_type = ['delta', 'theta', 'alpha', 'beta', 'gamma']\n",
    "\n",
    "train_data.shape, test_data.shape, train_data_split.shape, test_data_split.shape, train_label.shape, test_label.shape"
   ]
  },
  {
   "cell_type": "markdown",
   "id": "4ae9d051-00b0-4592-8ab0-27c9fd667901",
   "metadata": {},
   "source": [
    "### Fisrt, we train our model with whole types of EEG features(Differential entropy), and see the performance"
   ]
  },
  {
   "cell_type": "code",
   "execution_count": 3,
   "id": "6075f89a-10d6-4672-af25-185dce14322f",
   "metadata": {},
   "outputs": [
    {
     "name": "stdout",
     "output_type": "stream",
     "text": [
      "In order to select the number of components that explain at least 90% of the explained variance, we need to pick 18 components\n"
     ]
    },
    {
     "data": {
      "image/png": "[encoded data removed]",
      "text/plain": [
       "<Figure size 432x288 with 1 Axes>"
      ]
     },
     "metadata": {
      "needs_background": "light"
     },
     "output_type": "display_data"
    }
   ],
   "source": [
    "from sklearn.pipeline import Pipeline\n",
    "from sklearn.feature_selection import RFE\n",
    "from sklearn.preprocessing import MinMaxScaler, StandardScaler\n",
    "from sklearn.decomposition import PCA\n",
    "import warnings\n",
    "warnings.filterwarnings(\"ignore\")\n",
    "\n",
    "# Dimension reduction\n",
    "pca = Pipeline([('scaler', StandardScaler()),\n",
    "                ('PCA', PCA(n_components=310))])\n",
    "\n",
    "pca.fit(train_data)\n",
    "\n",
    "num_to_choose = np.where(np.cumsum(pca.named_steps['PCA'].explained_variance_ratio_)>0.9)[0][0]\n",
    "\n",
    "print('In order to select the number of components that explain at least 90% of the explained variance, we', \n",
    "      'need to pick {} components'.format(num_to_choose))\n",
    "\n",
    "plt.plot(100*np.cumsum(pca.named_steps['PCA'].explained_variance_ratio_), '-o')\n",
    "plt.xlabel('Principal Components',size=10)\n",
    "plt.ylabel('Cumulative Explained Variance, in %', size=10);"
   ]
  },
  {
   "cell_type": "code",
   "execution_count": 4,
   "id": "1f915e5e-bc59-4119-910d-eecb128c4660",
   "metadata": {},
   "outputs": [
    {
     "data": {
      "text/plain": [
       "{'memory': None,\n",
       " 'steps': [('scaler', StandardScaler()),\n",
       "  ('PCA', PCA(n_components=18)),\n",
       "  ('classifier', KNeighborsClassifier())],\n",
       " 'verbose': False,\n",
       " 'scaler': StandardScaler(),\n",
       " 'PCA': PCA(n_components=18),\n",
       " 'classifier': KNeighborsClassifier(),\n",
       " 'scaler__copy': True,\n",
       " 'scaler__with_mean': True,\n",
       " 'scaler__with_std': True,\n",
       " 'PCA__copy': True,\n",
       " 'PCA__iterated_power': 'auto',\n",
       " 'PCA__n_components': 18,\n",
       " 'PCA__n_oversamples': 10,\n",
       " 'PCA__power_iteration_normalizer': 'auto',\n",
       " 'PCA__random_state': None,\n",
       " 'PCA__svd_solver': 'auto',\n",
       " 'PCA__tol': 0.0,\n",
       " 'PCA__whiten': False,\n",
       " 'classifier__algorithm': 'auto',\n",
       " 'classifier__leaf_size': 30,\n",
       " 'classifier__metric': 'minkowski',\n",
       " 'classifier__metric_params': None,\n",
       " 'classifier__n_jobs': None,\n",
       " 'classifier__n_neighbors': 5,\n",
       " 'classifier__p': 2,\n",
       " 'classifier__weights': 'uniform'}"
      ]
     },
     "execution_count": 4,
     "metadata": {},
     "output_type": "execute_result"
    }
   ],
   "source": [
    "# KNN classifier \n",
    "from sklearn.neighbors import KNeighborsClassifier\n",
    "from sklearn.model_selection import GridSearchCV\n",
    "\n",
    "knn_pca = Pipeline([('scaler', StandardScaler()),\n",
    "                    ('PCA', PCA(n_components=num_to_choose)),\n",
    "                    ('classifier', KNeighborsClassifier())])\n",
    "\n",
    "knn_pca.get_params()"
   ]
  },
  {
   "cell_type": "code",
   "execution_count": 5,
   "id": "9f49862f-548d-4caf-875c-1a9545ca447f",
   "metadata": {},
   "outputs": [],
   "source": [
    "# Gridsearch for number of neighbors\n",
    "n_neighbors = [i for i in range(3,11)]\n",
    "param_grid = {'classifier__n_neighbors': n_neighbors}\n",
    "model_grid = GridSearchCV(knn_pca,\n",
    "                          param_grid=param_grid,\n",
    "                          cv=10,\n",
    "                          scoring='accuracy', \n",
    "                          refit=True)\n"
   ]
  },
  {
   "cell_type": "code",
   "execution_count": 6,
   "id": "c750423a-0418-4eb4-9065-b02d0d6c7d49",
   "metadata": {},
   "outputs": [
    {
     "data": {
      "text/html": [
       "<style>#sk-container-id-1 {color: black;background-color: white;}#sk-container-id-1 pre{padding: 0;}#sk-container-id-1 div.sk-toggleable {background-color: white;}#sk-container-id-1 label.sk-toggleable__label {cursor: pointer;display: block;width: 100%;margin-bottom: 0;padding: 0.3em;box-sizing: border-box;text-align: center;}#sk-container-id-1 label.sk-toggleable__label-arrow:before {content: \"▸\";float: left;margin-right: 0.25em;color: #696969;}#sk-container-id-1 label.sk-toggleable__label-arrow:hover:before {color: black;}#sk-container-id-1 div.sk-estimator:hover label.sk-toggleable__label-arrow:before {color: black;}#sk-container-id-1 div.sk-toggleable__content {max-height: 0;max-width: 0;overflow: hidden;text-align: left;background-color: #f0f8ff;}#sk-container-id-1 div.sk-toggleable__content pre {margin: 0.2em;color: black;border-radius: 0.25em;background-color: #f0f8ff;}#sk-container-id-1 input.sk-toggleable__control:checked~div.sk-toggleable__content {max-height: 200px;max-width: 100%;overflow: auto;}#sk-container-id-1 input.sk-toggleable__control:checked~label.sk-toggleable__label-arrow:before {content: \"▾\";}#sk-container-id-1 div.sk-estimator input.sk-toggleable__control:checked~label.sk-toggleable__label {background-color: #d4ebff;}#sk-container-id-1 div.sk-label input.sk-toggleable__control:checked~label.sk-toggleable__label {background-color: #d4ebff;}#sk-container-id-1 input.sk-hidden--visually {border: 0;clip: rect(1px 1px 1px 1px);clip: rect(1px, 1px, 1px, 1px);height: 1px;margin: -1px;overflow: hidden;padding: 0;position: absolute;width: 1px;}#sk-container-id-1 div.sk-estimator {font-family: monospace;background-color: #f0f8ff;border: 1px dotted black;border-radius: 0.25em;box-sizing: border-box;margin-bottom: 0.5em;}#sk-container-id-1 div.sk-estimator:hover {background-color: #d4ebff;}#sk-container-id-1 div.sk-parallel-item::after {content: \"\";width: 100%;border-bottom: 1px solid gray;flex-grow: 1;}#sk-container-id-1 div.sk-label:hover label.sk-toggleable__label {background-color: #d4ebff;}#sk-container-id-1 div.sk-serial::before {content: \"\";position: absolute;border-left: 1px solid gray;box-sizing: border-box;top: 0;bottom: 0;left: 50%;z-index: 0;}#sk-container-id-1 div.sk-serial {display: flex;flex-direction: column;align-items: center;background-color: white;padding-right: 0.2em;padding-left: 0.2em;position: relative;}#sk-container-id-1 div.sk-item {position: relative;z-index: 1;}#sk-container-id-1 div.sk-parallel {display: flex;align-items: stretch;justify-content: center;background-color: white;position: relative;}#sk-container-id-1 div.sk-item::before, #sk-container-id-1 div.sk-parallel-item::before {content: \"\";position: absolute;border-left: 1px solid gray;box-sizing: border-box;top: 0;bottom: 0;left: 50%;z-index: -1;}#sk-container-id-1 div.sk-parallel-item {display: flex;flex-direction: column;z-index: 1;position: relative;background-color: white;}#sk-container-id-1 div.sk-parallel-item:first-child::after {align-self: flex-end;width: 50%;}#sk-container-id-1 div.sk-parallel-item:last-child::after {align-self: flex-start;width: 50%;}#sk-container-id-1 div.sk-parallel-item:only-child::after {width: 0;}#sk-container-id-1 div.sk-dashed-wrapped {border: 1px dashed gray;margin: 0 0.4em 0.5em 0.4em;box-sizing: border-box;padding-bottom: 0.4em;background-color: white;}#sk-container-id-1 div.sk-label label {font-family: monospace;font-weight: bold;display: inline-block;line-height: 1.2em;}#sk-container-id-1 div.sk-label-container {text-align: center;}#sk-container-id-1 div.sk-container {/* jupyter's `normalize.less` sets `[hidden] { display: none; }` but bootstrap.min.css set `[hidden] { display: none !important; }` so we also need the `!important` here to be able to override the default hidden behavior on the sphinx rendered scikit-learn.org. See: https://github.com/scikit-learn/scikit-learn/issues/21755 */display: inline-block !important;position: relative;}#sk-container-id-1 div.sk-text-repr-fallback {display: none;}</style><div id=\"sk-container-id-1\" class=\"sk-top-container\"><div class=\"sk-text-repr-fallback\"><pre>GridSearchCV(cv=10,\n",
       "             estimator=Pipeline(steps=[(&#x27;scaler&#x27;, StandardScaler()),\n",
       "                                       (&#x27;PCA&#x27;, PCA(n_components=18)),\n",
       "                                       (&#x27;classifier&#x27;, KNeighborsClassifier())]),\n",
       "             param_grid={&#x27;classifier__n_neighbors&#x27;: [3, 4, 5, 6, 7, 8, 9, 10]},\n",
       "             scoring=&#x27;accuracy&#x27;)</pre><b>In a Jupyter environment, please rerun this cell to show the HTML representation or trust the notebook. <br />On GitHub, the HTML representation is unable to render, please try loading this page with nbviewer.org.</b></div><div class=\"sk-container\" hidden><div class=\"sk-item sk-dashed-wrapped\"><div class=\"sk-label-container\"><div class=\"sk-label sk-toggleable\"><input class=\"sk-toggleable__control sk-hidden--visually\" id=\"sk-estimator-id-1\" type=\"checkbox\" ><label for=\"sk-estimator-id-1\" class=\"sk-toggleable__label sk-toggleable__label-arrow\">GridSearchCV</label><div class=\"sk-toggleable__content\"><pre>GridSearchCV(cv=10,\n",
       "             estimator=Pipeline(steps=[(&#x27;scaler&#x27;, StandardScaler()),\n",
       "                                       (&#x27;PCA&#x27;, PCA(n_components=18)),\n",
       "                                       (&#x27;classifier&#x27;, KNeighborsClassifier())]),\n",
       "             param_grid={&#x27;classifier__n_neighbors&#x27;: [3, 4, 5, 6, 7, 8, 9, 10]},\n",
       "             scoring=&#x27;accuracy&#x27;)</pre></div></div></div><div class=\"sk-parallel\"><div class=\"sk-parallel-item\"><div class=\"sk-item\"><div class=\"sk-label-container\"><div class=\"sk-label sk-toggleable\"><input class=\"sk-toggleable__control sk-hidden--visually\" id=\"sk-estimator-id-2\" type=\"checkbox\" ><label for=\"sk-estimator-id-2\" class=\"sk-toggleable__label sk-toggleable__label-arrow\">estimator: Pipeline</label><div class=\"sk-toggleable__content\"><pre>Pipeline(steps=[(&#x27;scaler&#x27;, StandardScaler()), (&#x27;PCA&#x27;, PCA(n_components=18)),\n",
       "                (&#x27;classifier&#x27;, KNeighborsClassifier())])</pre></div></div></div><div class=\"sk-serial\"><div class=\"sk-item\"><div class=\"sk-serial\"><div class=\"sk-item\"><div class=\"sk-estimator sk-toggleable\"><input class=\"sk-toggleable__control sk-hidden--visually\" id=\"sk-estimator-id-3\" type=\"checkbox\" ><label for=\"sk-estimator-id-3\" class=\"sk-toggleable__label sk-toggleable__label-arrow\">StandardScaler</label><div class=\"sk-toggleable__content\"><pre>StandardScaler()</pre></div></div></div><div class=\"sk-item\"><div class=\"sk-estimator sk-toggleable\"><input class=\"sk-toggleable__control sk-hidden--visually\" id=\"sk-estimator-id-4\" type=\"checkbox\" ><label for=\"sk-estimator-id-4\" class=\"sk-toggleable__label sk-toggleable__label-arrow\">PCA</label><div class=\"sk-toggleable__content\"><pre>PCA(n_components=18)</pre></div></div></div><div class=\"sk-item\"><div class=\"sk-estimator sk-toggleable\"><input class=\"sk-toggleable__control sk-hidden--visually\" id=\"sk-estimator-id-5\" type=\"checkbox\" ><label for=\"sk-estimator-id-5\" class=\"sk-toggleable__label sk-toggleable__label-arrow\">KNeighborsClassifier</label><div class=\"sk-toggleable__content\"><pre>KNeighborsClassifier()</pre></div></div></div></div></div></div></div></div></div></div></div></div>"
      ],
      "text/plain": [
       "GridSearchCV(cv=10,\n",
       "             estimator=Pipeline(steps=[('scaler', StandardScaler()),\n",
       "                                       ('PCA', PCA(n_components=18)),\n",
       "                                       ('classifier', KNeighborsClassifier())]),\n",
       "             param_grid={'classifier__n_neighbors': [3, 4, 5, 6, 7, 8, 9, 10]},\n",
       "             scoring='accuracy')"
      ]
     },
     "execution_count": 6,
     "metadata": {},
     "output_type": "execute_result"
    }
   ],
   "source": [
    "model_grid.fit(train_data, train_label)"
   ]
  },
  {
   "cell_type": "code",
   "execution_count": 7,
   "id": "0b460b52-80a6-4369-a6bf-8ac1c7549641",
   "metadata": {},
   "outputs": [
    {
     "name": "stdout",
     "output_type": "stream",
     "text": [
      "{'classifier__n_neighbors': 6}\n"
     ]
    }
   ],
   "source": [
    "print(model_grid.best_params_)"
   ]
  },
  {
   "cell_type": "code",
   "execution_count": 8,
   "id": "6b43dea2-b107-40dd-a0cd-646eeae1a941",
   "metadata": {},
   "outputs": [
    {
     "name": "stdout",
     "output_type": "stream",
     "text": [
      "Accuracy in train data:  1.0\n",
      "Accuracy in test data:  0.6966321451509313\n"
     ]
    }
   ],
   "source": [
    "# Performance for KNN with PCA\n",
    "from sklearn.metrics import accuracy_score\n",
    "\n",
    "knn_pca = model_grid.best_estimator_\n",
    "\n",
    "y_test = knn_pca.predict(test_data)\n",
    "y_train = knn_pca.predict(train_data)\n",
    "\n",
    "print('Accuracy in train data: ', accuracy_score(train_label, y_train))\n",
    "print('Accuracy in test data: ', accuracy_score(test_label, y_test))"
   ]
  },
  {
   "cell_type": "code",
   "execution_count": 12,
   "id": "d848dfa1-2c7d-44ae-8ee7-dbe0ff043543",
   "metadata": {},
   "outputs": [
    {
     "name": "stdout",
     "output_type": "stream",
     "text": [
      "Accuracy in train data:  1.0\n",
      "Accuracy in test data:  0.7268986833654464\n"
     ]
    }
   ],
   "source": [
    "# KNN without PCA and its performance\n",
    "knn = Pipeline([('scaler', StandardScaler()),\n",
    "                ('classifier', KNeighborsClassifier(n_neighbors=6))])\n",
    "\n",
    "knn.fit(train_data, train_label)\n",
    "\n",
    "y_train = knn.predict(train_data)\n",
    "y_test = knn.predict(test_data)\n",
    "\n",
    "print('Accuracy in train data: ', accuracy_score(train_label, y_train))\n",
    "print('Accuracy in test data: ', accuracy_score(test_label, y_test))"
   ]
  },
  {
   "cell_type": "markdown",
   "id": "5d27ad1f-41ec-488e-91a8-2bcd8a857c82",
   "metadata": {},
   "source": [
    "### Second, we split the data into our five types of EEG signal, and compare their performance"
   ]
  },
  {
   "cell_type": "code",
   "execution_count": 13,
   "id": "0ca8f6df-97bd-43c5-a88c-1180cfdef8c7",
   "metadata": {},
   "outputs": [],
   "source": [
    "# Define a function to do the model train and performance evaluation\n",
    "def knn_estimator(data, label, n_neighbors=6):\n",
    "    \n",
    "    knn = Pipeline([('scaler', StandardScaler()),\n",
    "                    ('classifier', KNeighborsClassifier(n_neighbors=n_neighbors))])\n",
    "    knn.fit(data, label)\n",
    "    \n",
    "    return knn\n",
    "\n",
    "def knn_evaluator(name, model, train, test, t_train=train_label, t_test=test_label):\n",
    "    \n",
    "    y_train = model.predict(train)\n",
    "    y_test = model.predict(test)\n",
    "    \n",
    "    print('---------------------------------------------')\n",
    "    print('For '+name+' band EEG signal')\n",
    "    print('Accuracy in train data: ', accuracy_score(t_train, y_train))\n",
    "    print('Accuracy in test data: ', accuracy_score(t_test, y_test))\n",
    "    print('---------------------------------------------')"
   ]
  },
  {
   "cell_type": "code",
   "execution_count": 14,
   "id": "2b9fc3a4-3267-42ba-ad18-6b326ead9419",
   "metadata": {},
   "outputs": [
    {
     "name": "stdout",
     "output_type": "stream",
     "text": [
      "---------------------------------------------\n",
      "For delta band EEG signal\n",
      "Accuracy in train data:  1.0\n",
      "Accuracy in test data:  0.5529865125240848\n",
      "---------------------------------------------\n",
      "---------------------------------------------\n",
      "For theta band EEG signal\n",
      "Accuracy in train data:  1.0\n",
      "Accuracy in test data:  0.5657715157353885\n",
      "---------------------------------------------\n",
      "---------------------------------------------\n",
      "For alpha band EEG signal\n",
      "Accuracy in train data:  1.0\n",
      "Accuracy in test data:  0.5707490366088632\n",
      "---------------------------------------------\n",
      "---------------------------------------------\n",
      "For beta band EEG signal\n",
      "Accuracy in train data:  1.0\n",
      "Accuracy in test data:  0.6762604367373154\n",
      "---------------------------------------------\n",
      "---------------------------------------------\n",
      "For gamma band EEG signal\n",
      "Accuracy in train data:  1.0\n",
      "Accuracy in test data:  0.6942638086062941\n",
      "---------------------------------------------\n"
     ]
    }
   ],
   "source": [
    "for i in range(len(EEG_type)):\n",
    "    \n",
    "    data_train = train_data_split[i,:,:]\n",
    "    data_test = test_data_split[i,:,:]\n",
    "    model = knn_estimator(data_train, train_label)\n",
    "    knn_evaluator(name=EEG_type[i], model=model, train=data_train, test=data_test)\n",
    "    \n"
   ]
  }
 ],
 "metadata": {
  "kernelspec": {
   "display_name": "UFRC Python-3.10",
   "language": "python",
   "name": "python3-3.10-ufrc"
  },
  "language_info": {
   "codemirror_mode": {
    "name": "ipython",
    "version": 3
   },
   "file_extension": ".py",
   "mimetype": "text/x-python",
   "name": "python",
   "nbconvert_exporter": "python",
   "pygments_lexer": "ipython3",
   "version": "3.10.5"
  }
 },
 "nbformat": 4,
 "nbformat_minor": 5
}
