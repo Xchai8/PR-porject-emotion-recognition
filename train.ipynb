{
 "cells": [
  {
   "cell_type": "code",
   "execution_count": 1,
   "id": "2f74d23f-187c-4283-bca3-2af3cfc62378",
   "metadata": {},
   "outputs": [],
   "source": [
    "import numpy as np\n",
    "import pandas as pd\n",
    "import matplotlib.pyplot as plt\n",
    "\n",
    "import joblib\n",
    "import pickle\n",
    "\n",
    "import warnings\n",
    "warnings.filterwarnings(\"ignore\")\n",
    "\n",
    "from model.KNN import knn_estimator, knn_pca_estimator\n",
    "from model.DNN import ann_estimator, cnn_estimator, lstm_estimator"
   ]
  },
  {
   "cell_type": "code",
   "execution_count": 2,
   "id": "f23f6f83-dd86-4f9a-a99c-5591f5a1bc96",
   "metadata": {},
   "outputs": [
    {
     "data": {
      "text/plain": [
       "((72360, 310), (72360,))"
      ]
     },
     "execution_count": 2,
     "metadata": {},
     "output_type": "execute_result"
    }
   ],
   "source": [
    "# Load the train data\n",
    "train_data = np.load('Available data/train_data.npy')\n",
    "train_label = np.load('Available data/train_label.npy')\n",
    "\n",
    "train_data.shape, train_label.shape"
   ]
  },
  {
   "cell_type": "code",
   "execution_count": 3,
   "id": "a8faa2eb-d8d2-4279-b575-6c190c0152c9",
   "metadata": {},
   "outputs": [
    {
     "data": {
      "text/plain": [
       "['trained_model/knn.pkl']"
      ]
     },
     "execution_count": 3,
     "metadata": {},
     "output_type": "execute_result"
    }
   ],
   "source": [
    "# KNN \n",
    "knn = knn_estimator(data=train_data, label=train_label)\n",
    "\n",
    "joblib.dump(knn, 'trained_model/knn.pkl')"
   ]
  },
  {
   "cell_type": "code",
   "execution_count": 4,
   "id": "d95fe686-5325-4498-b0f8-00852ccb6c05",
   "metadata": {},
   "outputs": [
    {
     "data": {
      "text/plain": [
       "['trained_model/knn_pca.pkl']"
      ]
     },
     "execution_count": 4,
     "metadata": {},
     "output_type": "execute_result"
    }
   ],
   "source": [
    "# KNN with PCA\n",
    "knn_pca = knn_pca_estimator(data=train_data, label=train_label)\n",
    "\n",
    "joblib.dump(knn_pca, 'trained_model/knn_pca.pkl')"
   ]
  },
  {
   "cell_type": "code",
   "execution_count": 5,
   "id": "058df589-c452-4379-ab0d-aa3ffc73763c",
   "metadata": {},
   "outputs": [
    {
     "name": "stderr",
     "output_type": "stream",
     "text": [
      "2023-04-25 22:32:00.759251: I tensorflow/core/platform/cpu_feature_guard.cc:151] This TensorFlow binary is optimized with oneAPI Deep Neural Network Library (oneDNN) to use the following CPU instructions in performance-critical operations:  SSE4.1 SSE4.2 AVX AVX2 FMA\n",
      "To enable them in other operations, rebuild TensorFlow with the appropriate compiler flags.\n",
      "2023-04-25 22:32:01.308687: I tensorflow/core/common_runtime/gpu/gpu_device.cc:1525] Created device /job:localhost/replica:0/task:0/device:GPU:0 with 79111 MB memory:  -> device: 0, name: NVIDIA A100-SXM4-80GB, pci bus id: 0000:b7:00.0, compute capability: 8.0\n"
     ]
    },
    {
     "name": "stdout",
     "output_type": "stream",
     "text": [
      "Epoch 1/30\n",
      "  80/2262 [>.............................] - ETA: 4s - loss: 1.7580 - accuracy: 0.3348"
     ]
    },
    {
     "name": "stderr",
     "output_type": "stream",
     "text": [
      "2023-04-25 22:32:03.599928: I tensorflow/stream_executor/cuda/cuda_blas.cc:1774] TensorFloat-32 will be used for the matrix multiplication. This will only be logged once.\n"
     ]
    },
    {
     "name": "stdout",
     "output_type": "stream",
     "text": [
      "2262/2262 [==============================] - 6s 2ms/step - loss: 0.9159 - accuracy: 0.6091\n",
      "Epoch 2/30\n",
      "2262/2262 [==============================] - 4s 2ms/step - loss: 0.5100 - accuracy: 0.8442\n",
      "Epoch 3/30\n",
      "2262/2262 [==============================] - 4s 2ms/step - loss: 0.3250 - accuracy: 0.9265\n",
      "Epoch 4/30\n",
      "2262/2262 [==============================] - 4s 2ms/step - loss: 0.2139 - accuracy: 0.9628\n",
      "Epoch 5/30\n",
      "2262/2262 [==============================] - 4s 2ms/step - loss: 0.1414 - accuracy: 0.9775\n",
      "Epoch 6/30\n",
      "2262/2262 [==============================] - 4s 2ms/step - loss: 0.0935 - accuracy: 0.9879\n",
      "Epoch 7/30\n",
      "2262/2262 [==============================] - 4s 2ms/step - loss: 0.0623 - accuracy: 0.9941\n",
      "Epoch 8/30\n",
      "2262/2262 [==============================] - 4s 2ms/step - loss: 0.0411 - accuracy: 0.9976\n",
      "Epoch 9/30\n",
      "2262/2262 [==============================] - 4s 2ms/step - loss: 0.0268 - accuracy: 0.9991\n",
      "Epoch 10/30\n",
      "2262/2262 [==============================] - 4s 2ms/step - loss: 0.0174 - accuracy: 0.9999\n",
      "Epoch 11/30\n",
      "2262/2262 [==============================] - 4s 2ms/step - loss: 0.0112 - accuracy: 1.0000\n",
      "Epoch 12/30\n",
      "2262/2262 [==============================] - 4s 2ms/step - loss: 0.0070 - accuracy: 1.0000\n",
      "Epoch 13/30\n",
      "2262/2262 [==============================] - 4s 2ms/step - loss: 0.0044 - accuracy: 1.0000\n",
      "Epoch 14/30\n",
      "2262/2262 [==============================] - 4s 2ms/step - loss: 0.0027 - accuracy: 1.0000\n",
      "Epoch 15/30\n",
      "2262/2262 [==============================] - 4s 2ms/step - loss: 0.0016 - accuracy: 1.0000\n",
      "Epoch 16/30\n",
      "2262/2262 [==============================] - 4s 2ms/step - loss: 9.5600e-04 - accuracy: 1.0000\n",
      "Epoch 17/30\n",
      "2262/2262 [==============================] - 4s 2ms/step - loss: 5.5425e-04 - accuracy: 1.0000\n",
      "Epoch 18/30\n",
      "2262/2262 [==============================] - 4s 2ms/step - loss: 3.1278e-04 - accuracy: 1.0000\n",
      "Epoch 19/30\n",
      "2262/2262 [==============================] - 4s 2ms/step - loss: 1.7588e-04 - accuracy: 1.0000\n",
      "Epoch 20/30\n",
      "2262/2262 [==============================] - 4s 2ms/step - loss: 9.6920e-05 - accuracy: 1.0000\n",
      "Epoch 21/30\n",
      "2262/2262 [==============================] - 4s 2ms/step - loss: 5.3085e-05 - accuracy: 1.0000\n",
      "Epoch 22/30\n",
      "2262/2262 [==============================] - 4s 2ms/step - loss: 2.8602e-05 - accuracy: 1.0000\n",
      "Epoch 23/30\n",
      "2262/2262 [==============================] - 4s 2ms/step - loss: 1.5041e-05 - accuracy: 1.0000\n",
      "Epoch 24/30\n",
      "2262/2262 [==============================] - 4s 2ms/step - loss: 7.9257e-06 - accuracy: 1.0000\n",
      "Epoch 25/30\n",
      "2262/2262 [==============================] - 4s 2ms/step - loss: 4.1250e-06 - accuracy: 1.0000\n",
      "Epoch 26/30\n",
      "2262/2262 [==============================] - 4s 2ms/step - loss: 2.1391e-06 - accuracy: 1.0000\n",
      "Epoch 27/30\n",
      "2262/2262 [==============================] - 4s 2ms/step - loss: 1.1184e-06 - accuracy: 1.0000\n",
      "Epoch 28/30\n",
      "2262/2262 [==============================] - 4s 2ms/step - loss: 5.8939e-07 - accuracy: 1.0000\n",
      "Epoch 29/30\n",
      "2262/2262 [==============================] - 4s 2ms/step - loss: 3.1965e-07 - accuracy: 1.0000\n",
      "Epoch 30/30\n",
      "2262/2262 [==============================] - 4s 2ms/step - loss: 1.7916e-07 - accuracy: 1.0000\n"
     ]
    }
   ],
   "source": [
    "# ANN\n",
    "ann, ann_history = ann_estimator(data=train_data, label=train_label, lr=0.00001, batch_size=32, epochs=30)\n",
    "\n",
    "ann.save('trained_model/ann.h5')\n",
    "with open('trained_model/ann_history.txt', 'wb') as file_pi:\n",
    "    pickle.dump(ann_history.history, file_pi)"
   ]
  },
  {
   "cell_type": "code",
   "execution_count": 6,
   "id": "69c8ab43-b3c4-4e13-8370-ab59f4f17179",
   "metadata": {},
   "outputs": [
    {
     "name": "stdout",
     "output_type": "stream",
     "text": [
      "Epoch 1/50\n"
     ]
    },
    {
     "name": "stderr",
     "output_type": "stream",
     "text": [
      "2023-04-25 22:34:14.559202: I tensorflow/stream_executor/cuda/cuda_dnn.cc:366] Loaded cuDNN version 8201\n",
      "2023-04-25 22:34:15.620800: W tensorflow/stream_executor/gpu/asm_compiler.cc:80] Couldn't get ptxas version string: INTERNAL: Running ptxas --version returned 32512\n",
      "2023-04-25 22:34:15.795270: W tensorflow/stream_executor/gpu/redzone_allocator.cc:314] INTERNAL: ptxas exited with non-zero error code 32512, output: \n",
      "Relying on driver to perform ptx compilation. \n",
      "Modify $PATH to customize ptxas location.\n",
      "This message will be only logged once.\n"
     ]
    },
    {
     "name": "stdout",
     "output_type": "stream",
     "text": [
      "2262/2262 [==============================] - 11s 3ms/step - loss: 0.9425 - accuracy: 0.4844\n",
      "Epoch 2/50\n",
      "2262/2262 [==============================] - 7s 3ms/step - loss: 0.6237 - accuracy: 0.6676\n",
      "Epoch 3/50\n",
      "2262/2262 [==============================] - 7s 3ms/step - loss: 0.4699 - accuracy: 0.7603\n",
      "Epoch 4/50\n",
      "2262/2262 [==============================] - 7s 3ms/step - loss: 0.3349 - accuracy: 0.8505\n",
      "Epoch 5/50\n",
      "2262/2262 [==============================] - 7s 3ms/step - loss: 0.2149 - accuracy: 0.9174\n",
      "Epoch 6/50\n",
      "2262/2262 [==============================] - 7s 3ms/step - loss: 0.1481 - accuracy: 0.9469\n",
      "Epoch 7/50\n",
      "2262/2262 [==============================] - 7s 3ms/step - loss: 0.1115 - accuracy: 0.9615\n",
      "Epoch 8/50\n",
      "2262/2262 [==============================] - 7s 3ms/step - loss: 0.0917 - accuracy: 0.9686\n",
      "Epoch 9/50\n",
      "2262/2262 [==============================] - 7s 3ms/step - loss: 0.0804 - accuracy: 0.9729\n",
      "Epoch 10/50\n",
      "2262/2262 [==============================] - 7s 3ms/step - loss: 0.0733 - accuracy: 0.9757\n",
      "Epoch 11/50\n",
      "2262/2262 [==============================] - 7s 3ms/step - loss: 0.0661 - accuracy: 0.9781\n",
      "Epoch 12/50\n",
      "2262/2262 [==============================] - 7s 3ms/step - loss: 0.0586 - accuracy: 0.9808\n",
      "Epoch 13/50\n",
      "2262/2262 [==============================] - 7s 3ms/step - loss: 0.0544 - accuracy: 0.9821\n",
      "Epoch 14/50\n",
      "2262/2262 [==============================] - 7s 3ms/step - loss: 0.0484 - accuracy: 0.9837\n",
      "Epoch 15/50\n",
      "2262/2262 [==============================] - 7s 3ms/step - loss: 0.0487 - accuracy: 0.9840\n",
      "Epoch 16/50\n",
      "2262/2262 [==============================] - 7s 3ms/step - loss: 0.0448 - accuracy: 0.9855\n",
      "Epoch 17/50\n",
      "2262/2262 [==============================] - 7s 3ms/step - loss: 0.0425 - accuracy: 0.9864\n",
      "Epoch 18/50\n",
      "2262/2262 [==============================] - 7s 3ms/step - loss: 0.0408 - accuracy: 0.9867\n",
      "Epoch 19/50\n",
      "2262/2262 [==============================] - 7s 3ms/step - loss: 0.0378 - accuracy: 0.9876\n",
      "Epoch 20/50\n",
      "2262/2262 [==============================] - 7s 3ms/step - loss: 0.0367 - accuracy: 0.9879\n",
      "Epoch 21/50\n",
      "2262/2262 [==============================] - 7s 3ms/step - loss: 0.0359 - accuracy: 0.9882\n",
      "Epoch 22/50\n",
      "2262/2262 [==============================] - 7s 3ms/step - loss: 0.0378 - accuracy: 0.9879\n",
      "Epoch 23/50\n",
      "2262/2262 [==============================] - 7s 3ms/step - loss: 0.0338 - accuracy: 0.9891\n",
      "Epoch 24/50\n",
      "2262/2262 [==============================] - 7s 3ms/step - loss: 0.0332 - accuracy: 0.9891\n",
      "Epoch 25/50\n",
      "2262/2262 [==============================] - 7s 3ms/step - loss: 0.0314 - accuracy: 0.9895\n",
      "Epoch 26/50\n",
      "2262/2262 [==============================] - 7s 3ms/step - loss: 0.0312 - accuracy: 0.9898\n",
      "Epoch 27/50\n",
      "2262/2262 [==============================] - 7s 3ms/step - loss: 0.0316 - accuracy: 0.9894\n",
      "Epoch 28/50\n",
      "2262/2262 [==============================] - 7s 3ms/step - loss: 0.0330 - accuracy: 0.9895\n",
      "Epoch 29/50\n",
      "2262/2262 [==============================] - 7s 3ms/step - loss: 0.0303 - accuracy: 0.9900\n",
      "Epoch 30/50\n",
      "2262/2262 [==============================] - 7s 3ms/step - loss: 0.0300 - accuracy: 0.9908\n",
      "Epoch 31/50\n",
      "2262/2262 [==============================] - 7s 3ms/step - loss: 0.0277 - accuracy: 0.9911\n",
      "Epoch 32/50\n",
      "2262/2262 [==============================] - 7s 3ms/step - loss: 0.0279 - accuracy: 0.9910\n",
      "Epoch 33/50\n",
      "2262/2262 [==============================] - 7s 3ms/step - loss: 0.0271 - accuracy: 0.9912\n",
      "Epoch 34/50\n",
      "2262/2262 [==============================] - 7s 3ms/step - loss: 0.0268 - accuracy: 0.9916\n",
      "Epoch 35/50\n",
      "2262/2262 [==============================] - 7s 3ms/step - loss: 0.0263 - accuracy: 0.9916\n",
      "Epoch 36/50\n",
      "2262/2262 [==============================] - 7s 3ms/step - loss: 0.0256 - accuracy: 0.9919\n",
      "Epoch 37/50\n",
      "2262/2262 [==============================] - 7s 3ms/step - loss: 0.0248 - accuracy: 0.9916\n",
      "Epoch 38/50\n",
      "2262/2262 [==============================] - 7s 3ms/step - loss: 0.0227 - accuracy: 0.9929\n",
      "Epoch 39/50\n",
      "2262/2262 [==============================] - 7s 3ms/step - loss: 0.0243 - accuracy: 0.9923\n",
      "Epoch 40/50\n",
      "2262/2262 [==============================] - 7s 3ms/step - loss: 0.0230 - accuracy: 0.9927\n",
      "Epoch 41/50\n",
      "2262/2262 [==============================] - 7s 3ms/step - loss: 0.0233 - accuracy: 0.9926\n",
      "Epoch 42/50\n",
      "2262/2262 [==============================] - 7s 3ms/step - loss: 0.0235 - accuracy: 0.9924\n",
      "Epoch 43/50\n",
      "2262/2262 [==============================] - 7s 3ms/step - loss: 0.0221 - accuracy: 0.9925\n",
      "Epoch 44/50\n",
      "2262/2262 [==============================] - 7s 3ms/step - loss: 0.0238 - accuracy: 0.9926\n",
      "Epoch 45/50\n",
      "2262/2262 [==============================] - 7s 3ms/step - loss: 0.0228 - accuracy: 0.9930\n",
      "Epoch 46/50\n",
      "2262/2262 [==============================] - 7s 3ms/step - loss: 0.0221 - accuracy: 0.9932\n",
      "Epoch 47/50\n",
      "2262/2262 [==============================] - 7s 3ms/step - loss: 0.0209 - accuracy: 0.9934\n",
      "Epoch 48/50\n",
      "2262/2262 [==============================] - 7s 3ms/step - loss: 0.0222 - accuracy: 0.9931\n",
      "Epoch 49/50\n",
      "2262/2262 [==============================] - 7s 3ms/step - loss: 0.0209 - accuracy: 0.9934\n",
      "Epoch 50/50\n",
      "2262/2262 [==============================] - 7s 3ms/step - loss: 0.0217 - accuracy: 0.9934\n"
     ]
    }
   ],
   "source": [
    "# CNN\n",
    "cnn, cnn_history = cnn_estimator(data=train_data, label=train_label, lr=0.001, batch_size=32, epochs=50)\n",
    "\n",
    "cnn.save('trained_model/cnn.h5')\n",
    "with open('trained_model/cnn_history.txt', 'wb') as file_pi:\n",
    "    pickle.dump(cnn_history.history, file_pi)"
   ]
  },
  {
   "cell_type": "code",
   "execution_count": 8,
   "id": "892a8a57-b155-466e-90dc-9b801ee52a99",
   "metadata": {},
   "outputs": [
    {
     "name": "stdout",
     "output_type": "stream",
     "text": [
      "Epoch 1/50\n",
      "2262/2262 [==============================] - 48s 20ms/step - loss: 0.8819 - accuracy: 0.5449\n",
      "Epoch 2/50\n",
      "2262/2262 [==============================] - 46s 20ms/step - loss: 0.6423 - accuracy: 0.6946\n",
      "Epoch 3/50\n",
      "2262/2262 [==============================] - 46s 20ms/step - loss: 0.4361 - accuracy: 0.8229\n",
      "Epoch 4/50\n",
      "2262/2262 [==============================] - 46s 20ms/step - loss: 0.2784 - accuracy: 0.9024\n",
      "Epoch 5/50\n",
      "2262/2262 [==============================] - 46s 20ms/step - loss: 0.2094 - accuracy: 0.9322\n",
      "Epoch 6/50\n",
      "2262/2262 [==============================] - 46s 20ms/step - loss: 0.1593 - accuracy: 0.9511\n",
      "Epoch 7/50\n",
      "2262/2262 [==============================] - 46s 20ms/step - loss: 0.1521 - accuracy: 0.9553\n",
      "Epoch 8/50\n",
      "2262/2262 [==============================] - 46s 20ms/step - loss: 0.1070 - accuracy: 0.9694\n",
      "Epoch 9/50\n",
      "2262/2262 [==============================] - 46s 20ms/step - loss: 0.1028 - accuracy: 0.9714\n",
      "Epoch 10/50\n",
      "2262/2262 [==============================] - 46s 20ms/step - loss: 0.0941 - accuracy: 0.9751\n",
      "Epoch 11/50\n",
      "2262/2262 [==============================] - 46s 20ms/step - loss: 0.0706 - accuracy: 0.9812\n",
      "Epoch 12/50\n",
      "2262/2262 [==============================] - 46s 20ms/step - loss: 0.0838 - accuracy: 0.9786\n",
      "Epoch 13/50\n",
      "2262/2262 [==============================] - 46s 20ms/step - loss: 0.0774 - accuracy: 0.9808\n",
      "Epoch 14/50\n",
      "2262/2262 [==============================] - 46s 20ms/step - loss: 0.0571 - accuracy: 0.9862\n",
      "Epoch 15/50\n",
      "2262/2262 [==============================] - 46s 20ms/step - loss: 0.0577 - accuracy: 0.9858\n",
      "Epoch 16/50\n",
      "2262/2262 [==============================] - 46s 20ms/step - loss: 0.0507 - accuracy: 0.9878\n",
      "Epoch 17/50\n",
      "2262/2262 [==============================] - 46s 20ms/step - loss: 0.0548 - accuracy: 0.9870\n",
      "Epoch 18/50\n",
      "2262/2262 [==============================] - 46s 20ms/step - loss: 0.0457 - accuracy: 0.9901\n",
      "Epoch 19/50\n",
      "2262/2262 [==============================] - 46s 20ms/step - loss: 0.0541 - accuracy: 0.9873\n",
      "Epoch 20/50\n",
      "2262/2262 [==============================] - 46s 20ms/step - loss: 0.0494 - accuracy: 0.9883\n",
      "Epoch 21/50\n",
      "2262/2262 [==============================] - 46s 20ms/step - loss: 0.0499 - accuracy: 0.9885\n",
      "Epoch 22/50\n",
      "2262/2262 [==============================] - 46s 20ms/step - loss: 0.0404 - accuracy: 0.9901\n",
      "Epoch 23/50\n",
      "2262/2262 [==============================] - 46s 20ms/step - loss: 0.0440 - accuracy: 0.9895\n",
      "Epoch 24/50\n",
      "2262/2262 [==============================] - 46s 20ms/step - loss: 0.0389 - accuracy: 0.9910\n",
      "Epoch 25/50\n",
      "2262/2262 [==============================] - 46s 20ms/step - loss: 0.0431 - accuracy: 0.9904\n",
      "Epoch 26/50\n",
      "2262/2262 [==============================] - 46s 20ms/step - loss: 0.0277 - accuracy: 0.9942\n",
      "Epoch 27/50\n",
      "2262/2262 [==============================] - 46s 20ms/step - loss: 0.0301 - accuracy: 0.9937\n",
      "Epoch 28/50\n",
      "2262/2262 [==============================] - 46s 20ms/step - loss: 0.0277 - accuracy: 0.9939\n",
      "Epoch 29/50\n",
      "2262/2262 [==============================] - 46s 20ms/step - loss: 0.0275 - accuracy: 0.9935\n",
      "Epoch 30/50\n",
      "2262/2262 [==============================] - 46s 20ms/step - loss: 0.0284 - accuracy: 0.9941\n",
      "Epoch 31/50\n",
      "2262/2262 [==============================] - 46s 20ms/step - loss: 0.0285 - accuracy: 0.9935\n",
      "Epoch 32/50\n",
      "2262/2262 [==============================] - 46s 20ms/step - loss: 0.0301 - accuracy: 0.9937\n",
      "Epoch 33/50\n",
      "2262/2262 [==============================] - 46s 20ms/step - loss: 0.0227 - accuracy: 0.9950\n",
      "Epoch 34/50\n",
      "2262/2262 [==============================] - 46s 20ms/step - loss: 0.0255 - accuracy: 0.9946\n",
      "Epoch 35/50\n",
      "2262/2262 [==============================] - 46s 20ms/step - loss: 0.0194 - accuracy: 0.9961\n",
      "Epoch 36/50\n",
      "2262/2262 [==============================] - 46s 20ms/step - loss: 0.0347 - accuracy: 0.9927\n",
      "Epoch 37/50\n",
      "2262/2262 [==============================] - 46s 20ms/step - loss: 0.0195 - accuracy: 0.9962\n",
      "Epoch 38/50\n",
      "2262/2262 [==============================] - 46s 20ms/step - loss: 0.0252 - accuracy: 0.9942\n",
      "Epoch 39/50\n",
      "2262/2262 [==============================] - 46s 20ms/step - loss: 0.0314 - accuracy: 0.9935\n",
      "Epoch 40/50\n",
      "2262/2262 [==============================] - 46s 20ms/step - loss: 0.0228 - accuracy: 0.9949\n"
     ]
    }
   ],
   "source": [
    "# LSTM\n",
    "lstm, lstm_history = lstm_estimator(data=train_data, label=train_label, lr=0.001, batch_size=32, epochs=50)\n",
    "\n",
    "lstm.save('trained_model/lstm.h5')\n",
    "with open('trained_model/lstm_history.txt', 'wb') as file_pi:\n",
    "    pickle.dump(lstm_history.history, file_pi)"
   ]
  },
  {
   "cell_type": "code",
   "execution_count": null,
   "id": "e07997de-5668-4a78-8129-2ae0b089ea68",
   "metadata": {},
   "outputs": [],
   "source": []
  }
 ],
 "metadata": {
  "kernelspec": {
   "display_name": "Tensorflow-2.7.0",
   "language": "python",
   "name": "tensorflow-2.7.0"
  },
  "language_info": {
   "codemirror_mode": {
    "name": "ipython",
    "version": 3
   },
   "file_extension": ".py",
   "mimetype": "text/x-python",
   "name": "python",
   "nbconvert_exporter": "python",
   "pygments_lexer": "ipython3",
   "version": "3.9.12"
  }
 },
 "nbformat": 4,
 "nbformat_minor": 5
}
