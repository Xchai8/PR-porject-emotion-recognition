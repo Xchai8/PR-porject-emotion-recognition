{
 "cells": [
  {
   "cell_type": "code",
   "execution_count": 1,
   "id": "cb1f6522-812c-44b4-b61e-e85c70018f57",
   "metadata": {},
   "outputs": [],
   "source": [
    "import numpy as np\n",
    "import pandas as pd\n",
    "import matplotlib.pyplot as plt\n",
    "\n",
    "import tensorflow as tf\n",
    "from tensorflow import keras\n",
    "import warnings\n",
    "warnings.filterwarnings(\"ignore\")"
   ]
  },
  {
   "cell_type": "code",
   "execution_count": 2,
   "id": "fa4b0b31-b334-46e8-9bfc-92611537fdaf",
   "metadata": {},
   "outputs": [
    {
     "data": {
      "text/plain": [
       "((72360, 310), (49824, 310), (72360,), (49824,))"
      ]
     },
     "execution_count": 2,
     "metadata": {},
     "output_type": "execute_result"
    }
   ],
   "source": [
    "# Load the dataset\n",
    "train_data = np.load('Available data/train_data.npy')\n",
    "test_data = np.load('Available data/test_data.npy')\n",
    "train_label = np.load('Available data/train_label.npy')\n",
    "test_label = np.load('Available data/test_label.npy')\n",
    "\n",
    "EEG_type = ['delta', 'theta', 'alpha', 'beta', 'gamma']\n",
    "\n",
    "# train_data_split = np.load('Available data/train_data_split.npy')\n",
    "# test_data_split = np.load('Available data/test_data_split.npy')\n",
    "\n",
    "train_data.shape, test_data.shape, train_label.shape, test_label.shape"
   ]
  },
  {
   "cell_type": "code",
   "execution_count": 3,
   "id": "10df97b8-1fd2-4d2f-b8c8-09f5720ba133",
   "metadata": {},
   "outputs": [],
   "source": [
    "# Split and Standardize the original data\n",
    "from sklearn.preprocessing import StandardScaler\n",
    "from sklearn.model_selection import train_test_split\n",
    "\n",
    "scaler = StandardScaler()\n",
    "train_data_scl = scaler.fit_transform(train_data)\n",
    "test_data_scl = scaler.fit_transform(test_data)"
   ]
  },
  {
   "cell_type": "code",
   "execution_count": 4,
   "id": "498ab2e2-9e1c-42bf-8c52-84ac1832c00e",
   "metadata": {},
   "outputs": [
    {
     "name": "stderr",
     "output_type": "stream",
     "text": [
      "2023-04-25 15:33:15.418053: I tensorflow/core/platform/cpu_feature_guard.cc:151] This TensorFlow binary is optimized with oneAPI Deep Neural Network Library (oneDNN) to use the following CPU instructions in performance-critical operations:  SSE4.1 SSE4.2 AVX AVX2 FMA\n",
      "To enable them in other operations, rebuild TensorFlow with the appropriate compiler flags.\n",
      "2023-04-25 15:33:16.356510: I tensorflow/core/common_runtime/gpu/gpu_device.cc:1525] Created device /job:localhost/replica:0/task:0/device:GPU:0 with 79111 MB memory:  -> device: 0, name: NVIDIA A100-SXM4-80GB, pci bus id: 0000:b7:00.0, compute capability: 8.0\n"
     ]
    },
    {
     "data": {
      "text/plain": [
       "(TensorShape([72360, 310]), TensorShape([49824, 310]))"
      ]
     },
     "execution_count": 4,
     "metadata": {},
     "output_type": "execute_result"
    }
   ],
   "source": [
    "train_data_ts = tf.constant(train_data_scl, dtype=tf.float16)\n",
    "test_data_ts = tf.constant(test_data_scl, dtype=tf.float16)\n",
    "\n",
    "train_data_ts.shape, test_data_ts.shape"
   ]
  },
  {
   "cell_type": "code",
   "execution_count": 5,
   "id": "d581d2db-7b13-454b-86eb-836a449db2b5",
   "metadata": {},
   "outputs": [],
   "source": [
    "# Evaluatin gperformance function\n",
    "from sklearn.metrics import accuracy_score, confusion_matrix, classification_report\n",
    "\n",
    "def Evaluate_performance(model, history, test_data=test_data_ts, test_label=test_label, display=True):\n",
    "    \n",
    "    # Prediction\n",
    "    test_pred = np.argmax(model.predict(test_data), axis=1)\n",
    "    \n",
    "    # Performance\n",
    "    print('Performance in tset dataset:')\n",
    "    print(classification_report(test_label, test_pred))\n",
    "    print('Accuracy: ', accuracy_score(test_label, test_pred))\n",
    "    print('Confusion matrix:')\n",
    "    print(confusion_matrix(test_label, test_pred))\n",
    "    \n",
    "    # Display learning curve\n",
    "    key_names = list(history.history.keys())\n",
    "    colors = ['-r','--b']\n",
    "\n",
    "    plt.figure(figsize=(16, 5))\n",
    "    for i in range(len(key_names)):\n",
    "        plt.subplot(1,2,i+1)\n",
    "        plt.plot(history.history[key_names[i]], colors[i], label=key_names[i])\n",
    "        plt.legend(fontsize=15,ncol=2)\n",
    "        plt.title('Learning Curves', size=15);"
   ]
  },
  {
   "cell_type": "code",
   "execution_count": 6,
   "id": "9278828c-e8b8-49c7-aec1-dd41808f0159",
   "metadata": {},
   "outputs": [
    {
     "name": "stdout",
     "output_type": "stream",
     "text": [
      "Model: \"sequential\"\n",
      "_________________________________________________________________\n",
      " Layer (type)                Output Shape              Param #   \n",
      "=================================================================\n",
      " dense (Dense)               (None, 128)               39808     \n",
      "                                                                 \n",
      " re_lu (ReLU)                (None, 128)               0         \n",
      "                                                                 \n",
      " dense_1 (Dense)             (None, 64)                8256      \n",
      "                                                                 \n",
      " re_lu_1 (ReLU)              (None, 64)                0         \n",
      "                                                                 \n",
      " dense_2 (Dense)             (None, 32)                2080      \n",
      "                                                                 \n",
      " re_lu_2 (ReLU)              (None, 32)                0         \n",
      "                                                                 \n",
      " dense_3 (Dense)             (None, 3)                 99        \n",
      "                                                                 \n",
      "=================================================================\n",
      "Total params: 50,243\n",
      "Trainable params: 50,243\n",
      "Non-trainable params: 0\n",
      "_________________________________________________________________\n"
     ]
    }
   ],
   "source": [
    "# Self design ANN\n",
    "dnn_model1 = keras.models.Sequential([keras.layers.Input((310)),\n",
    "                                      keras.layers.Dense(128, kernel_initializer='he_normal'),\n",
    "                                      keras.layers.ReLU(),\n",
    "                                      keras.layers.Dense(64, kernel_initializer='he_normal'),\n",
    "                                      keras.layers.ReLU(),\n",
    "                                      keras.layers.Dense(32, kernel_initializer='he_normal'),\n",
    "                                      keras.layers.ReLU(),\n",
    "                                      keras.layers.Dense(3, activation='softmax')])\n",
    "\n",
    "dnn_model1.summary()                               "
   ]
  },
  {
   "cell_type": "code",
   "execution_count": 7,
   "id": "e7e8a02a-383c-4680-a9cf-ca2234ca69f6",
   "metadata": {},
   "outputs": [
    {
     "name": "stdout",
     "output_type": "stream",
     "text": [
      "Epoch 1/30\n",
      "  80/2262 [>.............................] - ETA: 4s - loss: 1.5512 - accuracy: 0.3145 "
     ]
    },
    {
     "name": "stderr",
     "output_type": "stream",
     "text": [
      "2023-04-25 15:33:19.185953: I tensorflow/stream_executor/cuda/cuda_blas.cc:1774] TensorFloat-32 will be used for the matrix multiplication. This will only be logged once.\n"
     ]
    },
    {
     "name": "stdout",
     "output_type": "stream",
     "text": [
      "2262/2262 [==============================] - 6s 2ms/step - loss: 0.9283 - accuracy: 0.5766\n",
      "Epoch 2/30\n",
      "2262/2262 [==============================] - 4s 2ms/step - loss: 0.5701 - accuracy: 0.8145\n",
      "Epoch 3/30\n",
      "2262/2262 [==============================] - 4s 2ms/step - loss: 0.3799 - accuracy: 0.9004\n",
      "Epoch 4/30\n",
      "2262/2262 [==============================] - 4s 2ms/step - loss: 0.2475 - accuracy: 0.9539\n",
      "Epoch 5/30\n",
      "2262/2262 [==============================] - 4s 2ms/step - loss: 0.1580 - accuracy: 0.9790\n",
      "Epoch 6/30\n",
      "2262/2262 [==============================] - 4s 2ms/step - loss: 0.0990 - accuracy: 0.9911\n",
      "Epoch 7/30\n",
      "2262/2262 [==============================] - 4s 2ms/step - loss: 0.0620 - accuracy: 0.9963\n",
      "Epoch 8/30\n",
      "2262/2262 [==============================] - 4s 2ms/step - loss: 0.0392 - accuracy: 0.9982\n",
      "Epoch 9/30\n",
      "2262/2262 [==============================] - 4s 2ms/step - loss: 0.0247 - accuracy: 0.9993\n",
      "Epoch 10/30\n",
      "2262/2262 [==============================] - 4s 2ms/step - loss: 0.0154 - accuracy: 0.9999\n",
      "Epoch 11/30\n",
      "2262/2262 [==============================] - 4s 2ms/step - loss: 0.0095 - accuracy: 1.0000\n",
      "Epoch 12/30\n",
      "2262/2262 [==============================] - 4s 2ms/step - loss: 0.0059 - accuracy: 1.0000\n",
      "Epoch 13/30\n",
      "2262/2262 [==============================] - 4s 2ms/step - loss: 0.0036 - accuracy: 1.0000\n",
      "Epoch 14/30\n",
      "2262/2262 [==============================] - 4s 2ms/step - loss: 0.0022 - accuracy: 1.0000\n",
      "Epoch 15/30\n",
      "2262/2262 [==============================] - 4s 2ms/step - loss: 0.0013 - accuracy: 1.0000\n",
      "Epoch 16/30\n",
      "2262/2262 [==============================] - 4s 2ms/step - loss: 7.8711e-04 - accuracy: 1.0000\n",
      "Epoch 17/30\n",
      "2262/2262 [==============================] - 4s 2ms/step - loss: 4.5828e-04 - accuracy: 1.0000\n",
      "Epoch 18/30\n",
      "2262/2262 [==============================] - 4s 2ms/step - loss: 2.5863e-04 - accuracy: 1.0000\n",
      "Epoch 19/30\n",
      "2262/2262 [==============================] - 4s 2ms/step - loss: 1.4401e-04 - accuracy: 1.0000\n",
      "Epoch 20/30\n",
      "2262/2262 [==============================] - 4s 2ms/step - loss: 7.9992e-05 - accuracy: 1.0000\n",
      "Epoch 21/30\n",
      "2262/2262 [==============================] - 4s 2ms/step - loss: 4.3723e-05 - accuracy: 1.0000\n",
      "Epoch 22/30\n",
      "2262/2262 [==============================] - 4s 2ms/step - loss: 2.3650e-05 - accuracy: 1.0000\n",
      "Epoch 23/30\n",
      "2262/2262 [==============================] - 4s 2ms/step - loss: 1.2595e-05 - accuracy: 1.0000\n",
      "Epoch 24/30\n",
      "2262/2262 [==============================] - 4s 2ms/step - loss: 6.6242e-06 - accuracy: 1.0000\n",
      "Epoch 25/30\n",
      "2262/2262 [==============================] - 4s 2ms/step - loss: 3.4350e-06 - accuracy: 1.0000\n",
      "Epoch 26/30\n",
      "2262/2262 [==============================] - 4s 2ms/step - loss: 1.7854e-06 - accuracy: 1.0000\n",
      "Epoch 27/30\n",
      "2262/2262 [==============================] - 4s 2ms/step - loss: 9.3509e-07 - accuracy: 1.0000\n",
      "Epoch 28/30\n",
      "2262/2262 [==============================] - 4s 2ms/step - loss: 5.0164e-07 - accuracy: 1.0000\n",
      "Epoch 29/30\n",
      "2262/2262 [==============================] - 4s 2ms/step - loss: 2.7663e-07 - accuracy: 1.0000\n",
      "Epoch 30/30\n",
      "2262/2262 [==============================] - 4s 2ms/step - loss: 1.5875e-07 - accuracy: 1.0000\n"
     ]
    }
   ],
   "source": [
    "# model compile and training\n",
    "lr = 0.00001\n",
    "optimizer = keras.optimizers.Nadam(learning_rate=lr)\n",
    "loss = 'sparse_categorical_crossentropy'\n",
    "epochs = 30\n",
    "batch_size = 32\n",
    "\n",
    "earlystop = keras.callbacks.EarlyStopping(monitor='loss', \n",
    "                                          patience=5)\n",
    "\n",
    "dnn_model1.compile(loss=loss,\n",
    "                   optimizer=optimizer,\n",
    "                   metrics=['accuracy'])\n",
    "\n",
    "history = dnn_model1.fit(x=train_data_ts, y=train_label, epochs=epochs, batch_size=batch_size, callbacks=[earlystop])"
   ]
  },
  {
   "cell_type": "code",
   "execution_count": 8,
   "id": "c8de2418-9d62-4758-a9f4-b3a86d021f13",
   "metadata": {},
   "outputs": [
    {
     "name": "stdout",
     "output_type": "stream",
     "text": [
      "Performance in tset dataset:\n",
      "              precision    recall  f1-score   support\n",
      "\n",
      "         0.0       0.71      0.65      0.68     15804\n",
      "         1.0       0.74      0.75      0.75     16920\n",
      "         2.0       0.83      0.89      0.86     17100\n",
      "\n",
      "    accuracy                           0.77     49824\n",
      "   macro avg       0.76      0.76      0.76     49824\n",
      "weighted avg       0.76      0.77      0.77     49824\n",
      "\n",
      "Accuracy:  0.7674614643545279\n",
      "Confusion matrix:\n",
      "[[10321  3794  1689]\n",
      " [ 2810 12729  1381]\n",
      " [ 1306   606 15188]]\n"
     ]
    },
    {
     "data": {
      "image/png": "[encoded data removed]",
      "text/plain": [
       "<Figure size 1152x360 with 2 Axes>"
      ]
     },
     "metadata": {
      "needs_background": "light"
     },
     "output_type": "display_data"
    }
   ],
   "source": [
    "Evaluate_performance(model=dnn_model1, history=history, display=True)"
   ]
  },
  {
   "cell_type": "code",
   "execution_count": 10,
   "id": "d2d75104-da19-44cc-ad6a-b2b5f25ffb9b",
   "metadata": {},
   "outputs": [
    {
     "name": "stdout",
     "output_type": "stream",
     "text": [
      "Model: \"sequential_1\"\n",
      "_________________________________________________________________\n",
      " Layer (type)                Output Shape              Param #   \n",
      "=================================================================\n",
      " conv1d (Conv1D)             (None, 308, 32)           128       \n",
      "                                                                 \n",
      " conv1d_1 (Conv1D)           (None, 306, 32)           3104      \n",
      "                                                                 \n",
      " max_pooling1d (MaxPooling1D  (None, 102, 32)          0         \n",
      " )                                                               \n",
      "                                                                 \n",
      " dropout (Dropout)           (None, 102, 32)           0         \n",
      "                                                                 \n",
      " conv1d_2 (Conv1D)           (None, 100, 64)           6208      \n",
      "                                                                 \n",
      " conv1d_3 (Conv1D)           (None, 98, 64)            12352     \n",
      "                                                                 \n",
      " max_pooling1d_1 (MaxPooling  (None, 32, 64)           0         \n",
      " 1D)                                                             \n",
      "                                                                 \n",
      " dropout_1 (Dropout)         (None, 32, 64)            0         \n",
      "                                                                 \n",
      " global_average_pooling1d (G  (None, 64)               0         \n",
      " lobalAveragePooling1D)                                          \n",
      "                                                                 \n",
      " dense_4 (Dense)             (None, 64)                4160      \n",
      "                                                                 \n",
      " dropout_2 (Dropout)         (None, 64)                0         \n",
      "                                                                 \n",
      " dense_5 (Dense)             (None, 3)                 195       \n",
      "                                                                 \n",
      "=================================================================\n",
      "Total params: 26,147\n",
      "Trainable params: 26,147\n",
      "Non-trainable params: 0\n",
      "_________________________________________________________________\n"
     ]
    }
   ],
   "source": [
    "# 1D CNN model\n",
    "from keras.layers import Conv1D, MaxPooling1D, GlobalAveragePooling1D, Dropout, Dense\n",
    "\n",
    "dnn_model2 = keras.models.Sequential()\n",
    "\n",
    "# Convolutional layers\n",
    "dnn_model2.add(Conv1D(32, 3, activation='relu', input_shape=(310,1)))\n",
    "dnn_model2.add(Conv1D(32, 3, activation='relu'))\n",
    "dnn_model2.add(MaxPooling1D(3))\n",
    "dnn_model2.add(Dropout(0.25))\n",
    "\n",
    "dnn_model2.add(Conv1D(64, 3, activation='relu'))\n",
    "dnn_model2.add(Conv1D(64, 3, activation='relu'))\n",
    "dnn_model2.add(MaxPooling1D(3))\n",
    "dnn_model2.add(Dropout(0.25))\n",
    "\n",
    "# Global average pooling layer\n",
    "dnn_model2.add(GlobalAveragePooling1D())\n",
    "\n",
    "# Fully connected layers\n",
    "dnn_model2.add(Dense(64, activation='relu', kernel_initializer='he_normal'))\n",
    "dnn_model2.add(Dropout(0.5))\n",
    "dnn_model2.add(Dense(3, activation='softmax'))\n",
    "\n",
    "dnn_model2.summary()"
   ]
  },
  {
   "cell_type": "code",
   "execution_count": 11,
   "id": "955127d2-ad1a-4104-b676-bae094960c47",
   "metadata": {},
   "outputs": [
    {
     "name": "stdout",
     "output_type": "stream",
     "text": [
      "Epoch 1/50\n"
     ]
    },
    {
     "name": "stderr",
     "output_type": "stream",
     "text": [
      "2023-04-25 15:35:32.962496: I tensorflow/stream_executor/cuda/cuda_dnn.cc:366] Loaded cuDNN version 8201\n",
      "2023-04-25 15:35:34.401637: W tensorflow/stream_executor/gpu/asm_compiler.cc:80] Couldn't get ptxas version string: INTERNAL: Running ptxas --version returned 32512\n",
      "2023-04-25 15:35:34.580024: W tensorflow/stream_executor/gpu/redzone_allocator.cc:314] INTERNAL: ptxas exited with non-zero error code 32512, output: \n",
      "Relying on driver to perform ptx compilation. \n",
      "Modify $PATH to customize ptxas location.\n",
      "This message will be only logged once.\n"
     ]
    },
    {
     "name": "stdout",
     "output_type": "stream",
     "text": [
      "2262/2262 [==============================] - 11s 3ms/step - loss: 0.9474 - accuracy: 0.4823\n",
      "Epoch 2/50\n",
      "2262/2262 [==============================] - 7s 3ms/step - loss: 0.6643 - accuracy: 0.6360\n",
      "Epoch 3/50\n",
      "2262/2262 [==============================] - 7s 3ms/step - loss: 0.5068 - accuracy: 0.7433\n",
      "Epoch 4/50\n",
      "2262/2262 [==============================] - 7s 3ms/step - loss: 0.3635 - accuracy: 0.8385\n",
      "Epoch 5/50\n",
      "2262/2262 [==============================] - 7s 3ms/step - loss: 0.2503 - accuracy: 0.9013\n",
      "Epoch 6/50\n",
      "2262/2262 [==============================] - 7s 3ms/step - loss: 0.1832 - accuracy: 0.9335\n",
      "Epoch 7/50\n",
      "2262/2262 [==============================] - 7s 3ms/step - loss: 0.1386 - accuracy: 0.9511\n",
      "Epoch 8/50\n",
      "2262/2262 [==============================] - 7s 3ms/step - loss: 0.1101 - accuracy: 0.9621\n",
      "Epoch 9/50\n",
      "2262/2262 [==============================] - 7s 3ms/step - loss: 0.0931 - accuracy: 0.9687\n",
      "Epoch 10/50\n",
      "2262/2262 [==============================] - 7s 3ms/step - loss: 0.0828 - accuracy: 0.9726\n",
      "Epoch 11/50\n",
      "2262/2262 [==============================] - 7s 3ms/step - loss: 0.0736 - accuracy: 0.9757\n",
      "Epoch 12/50\n",
      "2262/2262 [==============================] - 7s 3ms/step - loss: 0.0675 - accuracy: 0.9781\n",
      "Epoch 13/50\n",
      "2262/2262 [==============================] - 7s 3ms/step - loss: 0.0609 - accuracy: 0.9801\n",
      "Epoch 14/50\n",
      "2262/2262 [==============================] - 7s 3ms/step - loss: 0.0585 - accuracy: 0.9807\n",
      "Epoch 15/50\n",
      "2262/2262 [==============================] - 7s 3ms/step - loss: 0.0517 - accuracy: 0.9834\n",
      "Epoch 16/50\n",
      "2262/2262 [==============================] - 7s 3ms/step - loss: 0.0494 - accuracy: 0.9842\n",
      "Epoch 17/50\n",
      "2262/2262 [==============================] - 7s 3ms/step - loss: 0.0503 - accuracy: 0.9841\n",
      "Epoch 18/50\n",
      "2262/2262 [==============================] - 7s 3ms/step - loss: 0.0446 - accuracy: 0.9854\n",
      "Epoch 19/50\n",
      "2262/2262 [==============================] - 7s 3ms/step - loss: 0.0432 - accuracy: 0.9853\n",
      "Epoch 20/50\n",
      "2262/2262 [==============================] - 7s 3ms/step - loss: 0.0389 - accuracy: 0.9874\n",
      "Epoch 21/50\n",
      "2262/2262 [==============================] - 7s 3ms/step - loss: 0.0423 - accuracy: 0.9868\n",
      "Epoch 22/50\n",
      "2262/2262 [==============================] - 7s 3ms/step - loss: 0.0383 - accuracy: 0.9878\n",
      "Epoch 23/50\n",
      "2262/2262 [==============================] - 7s 3ms/step - loss: 0.0356 - accuracy: 0.9887\n",
      "Epoch 24/50\n",
      "2262/2262 [==============================] - 7s 3ms/step - loss: 0.0365 - accuracy: 0.9880\n",
      "Epoch 25/50\n",
      "2262/2262 [==============================] - 7s 3ms/step - loss: 0.0365 - accuracy: 0.9885\n",
      "Epoch 26/50\n",
      "2262/2262 [==============================] - 7s 3ms/step - loss: 0.0328 - accuracy: 0.9895\n",
      "Epoch 27/50\n",
      "2262/2262 [==============================] - 7s 3ms/step - loss: 0.0343 - accuracy: 0.9892\n",
      "Epoch 28/50\n",
      "2262/2262 [==============================] - 7s 3ms/step - loss: 0.0329 - accuracy: 0.9897\n",
      "Epoch 29/50\n",
      "2262/2262 [==============================] - 7s 3ms/step - loss: 0.0320 - accuracy: 0.9898\n",
      "Epoch 30/50\n",
      "2262/2262 [==============================] - 7s 3ms/step - loss: 0.0296 - accuracy: 0.9905\n",
      "Epoch 31/50\n",
      "2262/2262 [==============================] - 7s 3ms/step - loss: 0.0305 - accuracy: 0.9902\n",
      "Epoch 32/50\n",
      "2262/2262 [==============================] - 7s 3ms/step - loss: 0.0311 - accuracy: 0.9906\n",
      "Epoch 33/50\n",
      "2262/2262 [==============================] - 7s 3ms/step - loss: 0.0284 - accuracy: 0.9910\n",
      "Epoch 34/50\n",
      "2262/2262 [==============================] - 7s 3ms/step - loss: 0.0281 - accuracy: 0.9908\n",
      "Epoch 35/50\n",
      "2262/2262 [==============================] - 7s 3ms/step - loss: 0.0270 - accuracy: 0.9917\n",
      "Epoch 36/50\n",
      "2262/2262 [==============================] - 7s 3ms/step - loss: 0.0268 - accuracy: 0.9917\n",
      "Epoch 37/50\n",
      "2262/2262 [==============================] - 7s 3ms/step - loss: 0.0269 - accuracy: 0.9912\n",
      "Epoch 38/50\n",
      "2262/2262 [==============================] - 7s 3ms/step - loss: 0.0263 - accuracy: 0.9919\n",
      "Epoch 39/50\n",
      "2262/2262 [==============================] - 7s 3ms/step - loss: 0.0261 - accuracy: 0.9922\n",
      "Epoch 40/50\n",
      "2262/2262 [==============================] - 7s 3ms/step - loss: 0.0265 - accuracy: 0.9917\n",
      "Epoch 41/50\n",
      "2262/2262 [==============================] - 7s 3ms/step - loss: 0.0252 - accuracy: 0.9923\n",
      "Epoch 42/50\n",
      "2262/2262 [==============================] - 7s 3ms/step - loss: 0.0233 - accuracy: 0.9925\n",
      "Epoch 43/50\n",
      "2262/2262 [==============================] - 7s 3ms/step - loss: 0.0224 - accuracy: 0.9927\n",
      "Epoch 44/50\n",
      "2262/2262 [==============================] - 7s 3ms/step - loss: 0.0231 - accuracy: 0.9928\n",
      "Epoch 45/50\n",
      "2262/2262 [==============================] - 7s 3ms/step - loss: 0.0209 - accuracy: 0.9934\n",
      "Epoch 46/50\n",
      "2262/2262 [==============================] - 7s 3ms/step - loss: 0.0222 - accuracy: 0.9929\n",
      "Epoch 47/50\n",
      "2262/2262 [==============================] - 7s 3ms/step - loss: 0.0251 - accuracy: 0.9922\n",
      "Epoch 48/50\n",
      "2262/2262 [==============================] - 7s 3ms/step - loss: 0.0212 - accuracy: 0.9933\n",
      "Epoch 49/50\n",
      "2262/2262 [==============================] - 7s 3ms/step - loss: 0.0226 - accuracy: 0.9932\n",
      "Epoch 50/50\n",
      "2262/2262 [==============================] - 7s 3ms/step - loss: 0.0220 - accuracy: 0.9928\n"
     ]
    }
   ],
   "source": [
    "# model compile and training\n",
    "lr = 0.001\n",
    "batch_size=32\n",
    "epochs=50\n",
    "\n",
    "optimizer = keras.optimizers.Nadam(learning_rate=lr)\n",
    "dnn_model2.compile(loss=loss, optimizer=optimizer, metrics=['accuracy'])\n",
    "\n",
    "history = dnn_model2.fit(train_data_ts, train_label, batch_size=32, epochs=epochs, callbacks=[earlystop])"
   ]
  },
  {
   "cell_type": "code",
   "execution_count": 12,
   "id": "3d7e4f2c-2db0-417f-affe-51f0ac6511fc",
   "metadata": {},
   "outputs": [
    {
     "name": "stdout",
     "output_type": "stream",
     "text": [
      "Performance in tset dataset:\n",
      "              precision    recall  f1-score   support\n",
      "\n",
      "         0.0       0.66      0.59      0.62     15804\n",
      "         1.0       0.70      0.66      0.68     16920\n",
      "         2.0       0.74      0.86      0.80     17100\n",
      "\n",
      "    accuracy                           0.71     49824\n",
      "   macro avg       0.70      0.70      0.70     49824\n",
      "weighted avg       0.70      0.71      0.70     49824\n",
      "\n",
      "Accuracy:  0.7065069043031471\n",
      "Confusion matrix:\n",
      "[[ 9336  3771  2697]\n",
      " [ 3373 11199  2348]\n",
      " [ 1373  1061 14666]]\n"
     ]
    },
    {
     "data": {
      "image/png": "[encoded data removed]",
      "text/plain": [
       "<Figure size 1152x360 with 2 Axes>"
      ]
     },
     "metadata": {
      "needs_background": "light"
     },
     "output_type": "display_data"
    }
   ],
   "source": [
    "Evaluate_performance(model=dnn_model2, history=history, display=True)"
   ]
  },
  {
   "cell_type": "code",
   "execution_count": 13,
   "id": "47d43212-2fda-4acb-aefa-d528284261de",
   "metadata": {},
   "outputs": [
    {
     "name": "stdout",
     "output_type": "stream",
     "text": [
      "Model: \"sequential_2\"\n",
      "_________________________________________________________________\n",
      " Layer (type)                Output Shape              Param #   \n",
      "=================================================================\n",
      " lstm (LSTM)                 (None, 310, 64)           16896     \n",
      "                                                                 \n",
      " dropout_3 (Dropout)         (None, 310, 64)           0         \n",
      "                                                                 \n",
      " lstm_1 (LSTM)               (None, 64)                33024     \n",
      "                                                                 \n",
      " dropout_4 (Dropout)         (None, 64)                0         \n",
      "                                                                 \n",
      " dense_6 (Dense)             (None, 64)                4160      \n",
      "                                                                 \n",
      " dropout_5 (Dropout)         (None, 64)                0         \n",
      "                                                                 \n",
      " dense_7 (Dense)             (None, 32)                2080      \n",
      "                                                                 \n",
      " dropout_6 (Dropout)         (None, 32)                0         \n",
      "                                                                 \n",
      " dense_8 (Dense)             (None, 3)                 99        \n",
      "                                                                 \n",
      "=================================================================\n",
      "Total params: 56,259\n",
      "Trainable params: 56,259\n",
      "Non-trainable params: 0\n",
      "_________________________________________________________________\n"
     ]
    }
   ],
   "source": [
    "# LSTM\n",
    "from keras.layers import LSTM\n",
    "\n",
    "dnn_model3 = keras.models.Sequential()\n",
    "\n",
    "# LSTM layers\n",
    "dnn_model3.add(LSTM(64, input_shape=(310, 1), return_sequences=True))\n",
    "dnn_model3.add(Dropout(0.2))\n",
    "dnn_model3.add(LSTM(64))\n",
    "dnn_model3.add(Dropout(0.2))\n",
    "\n",
    "# Fully connected layers\n",
    "dnn_model3.add(Dense(64, activation='relu', kernel_initializer='he_normal'))\n",
    "dnn_model3.add(Dropout(0.5))\n",
    "dnn_model3.add(Dense(32, activation='relu', kernel_initializer='he_normal'))\n",
    "dnn_model3.add(Dropout(0.5))\n",
    "\n",
    "dnn_model3.add(Dense(3, activation='softmax'))\n",
    "\n",
    "dnn_model3.summary()"
   ]
  },
  {
   "cell_type": "code",
   "execution_count": 14,
   "id": "f22b589c-aee2-4002-82e3-b2abf314da88",
   "metadata": {},
   "outputs": [
    {
     "name": "stdout",
     "output_type": "stream",
     "text": [
      "Epoch 1/50\n",
      "2262/2262 [==============================] - 48s 20ms/step - loss: 0.8989 - accuracy: 0.5388\n",
      "Epoch 2/50\n",
      "2262/2262 [==============================] - 46s 20ms/step - loss: 0.6465 - accuracy: 0.6741\n",
      "Epoch 3/50\n",
      "2262/2262 [==============================] - 46s 20ms/step - loss: 0.4737 - accuracy: 0.8050\n",
      "Epoch 4/50\n",
      "2262/2262 [==============================] - 46s 20ms/step - loss: 0.3332 - accuracy: 0.8745\n",
      "Epoch 5/50\n",
      "2262/2262 [==============================] - 46s 20ms/step - loss: 0.2413 - accuracy: 0.9136\n",
      "Epoch 6/50\n",
      "2262/2262 [==============================] - 46s 20ms/step - loss: 0.1693 - accuracy: 0.9453\n",
      "Epoch 7/50\n",
      "2262/2262 [==============================] - 46s 20ms/step - loss: 0.1523 - accuracy: 0.9542\n",
      "Epoch 8/50\n",
      "2262/2262 [==============================] - 46s 20ms/step - loss: 0.1048 - accuracy: 0.9714\n",
      "Epoch 9/50\n",
      "2262/2262 [==============================] - 45s 20ms/step - loss: 0.0881 - accuracy: 0.9776\n",
      "Epoch 10/50\n",
      "2262/2262 [==============================] - 46s 20ms/step - loss: 0.0879 - accuracy: 0.9773\n",
      "Epoch 11/50\n",
      "2262/2262 [==============================] - 46s 20ms/step - loss: 0.0781 - accuracy: 0.9805\n",
      "Epoch 12/50\n",
      "2262/2262 [==============================] - 46s 20ms/step - loss: 0.0624 - accuracy: 0.9845\n",
      "Epoch 13/50\n",
      "2262/2262 [==============================] - 46s 20ms/step - loss: 0.0724 - accuracy: 0.9819\n",
      "Epoch 14/50\n",
      "2262/2262 [==============================] - 46s 20ms/step - loss: 0.0648 - accuracy: 0.9838\n",
      "Epoch 15/50\n",
      "2262/2262 [==============================] - 46s 20ms/step - loss: 0.0521 - accuracy: 0.9869\n",
      "Epoch 16/50\n",
      "2262/2262 [==============================] - 46s 20ms/step - loss: 0.0576 - accuracy: 0.9863\n",
      "Epoch 17/50\n",
      "2262/2262 [==============================] - 46s 20ms/step - loss: 0.0428 - accuracy: 0.9909\n",
      "Epoch 18/50\n",
      "2262/2262 [==============================] - 46s 20ms/step - loss: 0.0434 - accuracy: 0.9890\n",
      "Epoch 19/50\n",
      "2262/2262 [==============================] - 46s 20ms/step - loss: 0.0421 - accuracy: 0.9899\n",
      "Epoch 20/50\n",
      "2262/2262 [==============================] - 46s 20ms/step - loss: 0.0480 - accuracy: 0.9889\n",
      "Epoch 21/50\n",
      "2262/2262 [==============================] - 46s 20ms/step - loss: 0.0521 - accuracy: 0.9878\n",
      "Epoch 22/50\n",
      "2262/2262 [==============================] - 46s 20ms/step - loss: 0.0413 - accuracy: 0.9904\n",
      "Epoch 23/50\n",
      "2262/2262 [==============================] - 46s 20ms/step - loss: 0.0395 - accuracy: 0.9912\n",
      "Epoch 24/50\n",
      "2262/2262 [==============================] - 46s 20ms/step - loss: 0.0328 - accuracy: 0.9924\n",
      "Epoch 25/50\n",
      "2262/2262 [==============================] - 46s 20ms/step - loss: 0.0341 - accuracy: 0.9921\n",
      "Epoch 26/50\n",
      "2262/2262 [==============================] - 46s 20ms/step - loss: 0.0371 - accuracy: 0.9916\n",
      "Epoch 27/50\n",
      "2262/2262 [==============================] - 46s 20ms/step - loss: 0.0331 - accuracy: 0.9924\n",
      "Epoch 28/50\n",
      "2262/2262 [==============================] - 46s 20ms/step - loss: 0.0282 - accuracy: 0.9934\n",
      "Epoch 29/50\n",
      "2262/2262 [==============================] - 46s 20ms/step - loss: 0.0345 - accuracy: 0.9918\n",
      "Epoch 30/50\n",
      "2262/2262 [==============================] - 46s 20ms/step - loss: 0.0363 - accuracy: 0.9921\n",
      "Epoch 31/50\n",
      "2262/2262 [==============================] - 46s 20ms/step - loss: 0.0247 - accuracy: 0.9944\n",
      "Epoch 32/50\n",
      "2262/2262 [==============================] - 46s 20ms/step - loss: 0.0305 - accuracy: 0.9931\n",
      "Epoch 33/50\n",
      "2262/2262 [==============================] - 46s 20ms/step - loss: 0.0242 - accuracy: 0.9952\n",
      "Epoch 34/50\n",
      "2262/2262 [==============================] - 46s 20ms/step - loss: 0.0328 - accuracy: 0.9926\n",
      "Epoch 35/50\n",
      "2262/2262 [==============================] - 46s 20ms/step - loss: 0.0234 - accuracy: 0.9949\n",
      "Epoch 36/50\n",
      "2262/2262 [==============================] - 46s 20ms/step - loss: 0.0246 - accuracy: 0.9947\n",
      "Epoch 37/50\n",
      "2262/2262 [==============================] - 46s 20ms/step - loss: 0.0196 - accuracy: 0.9958\n",
      "Epoch 38/50\n",
      "2262/2262 [==============================] - 46s 20ms/step - loss: 0.0268 - accuracy: 0.9944\n",
      "Epoch 39/50\n",
      "2262/2262 [==============================] - 46s 20ms/step - loss: 0.0319 - accuracy: 0.9931\n",
      "Epoch 40/50\n",
      "2262/2262 [==============================] - 46s 20ms/step - loss: 0.0200 - accuracy: 0.9956\n",
      "Epoch 41/50\n",
      "2262/2262 [==============================] - 46s 20ms/step - loss: 0.0194 - accuracy: 0.9959\n",
      "Epoch 42/50\n",
      "2262/2262 [==============================] - 46s 20ms/step - loss: 0.0195 - accuracy: 0.9961\n",
      "Epoch 43/50\n",
      "2262/2262 [==============================] - 46s 20ms/step - loss: 0.0199 - accuracy: 0.9960\n",
      "Epoch 44/50\n",
      "2262/2262 [==============================] - 46s 20ms/step - loss: 0.0183 - accuracy: 0.9962\n",
      "Epoch 45/50\n",
      "2262/2262 [==============================] - 46s 20ms/step - loss: 0.0221 - accuracy: 0.9951\n",
      "Epoch 46/50\n",
      "2262/2262 [==============================] - 46s 20ms/step - loss: 0.0232 - accuracy: 0.9943\n",
      "Epoch 47/50\n",
      "2262/2262 [==============================] - 46s 20ms/step - loss: 0.0138 - accuracy: 0.9970\n",
      "Epoch 48/50\n",
      "2262/2262 [==============================] - 46s 20ms/step - loss: 0.0219 - accuracy: 0.9953\n",
      "Epoch 49/50\n",
      "2262/2262 [==============================] - 46s 20ms/step - loss: 0.0134 - accuracy: 0.9972\n",
      "Epoch 50/50\n",
      "2262/2262 [==============================] - 46s 20ms/step - loss: 0.0200 - accuracy: 0.9954\n"
     ]
    }
   ],
   "source": [
    "# Compile the model and training\n",
    "lr = 0.001\n",
    "batch_size=32\n",
    "epochs=50\n",
    "optimizer = keras.optimizers.Nadam(learning_rate=lr)\n",
    "\n",
    "dnn_model3.compile(loss=loss, optimizer=optimizer, metrics=['accuracy'])\n",
    "\n",
    "# Train the model\n",
    "history = dnn_model3.fit(train_data_ts, train_label, batch_size=32, epochs=50, callbacks=[earlystop])"
   ]
  },
  {
   "cell_type": "code",
   "execution_count": 16,
   "id": "0b890245-ca93-4048-8e8a-966050d74456",
   "metadata": {},
   "outputs": [
    {
     "name": "stdout",
     "output_type": "stream",
     "text": [
      "Performance in tset dataset:\n",
      "              precision    recall  f1-score   support\n",
      "\n",
      "         0.0       0.51      0.46      0.48     15804\n",
      "         1.0       0.62      0.57      0.59     16920\n",
      "         2.0       0.74      0.87      0.80     17100\n",
      "\n",
      "    accuracy                           0.64     49824\n",
      "   macro avg       0.62      0.63      0.63     49824\n",
      "weighted avg       0.63      0.64      0.63     49824\n",
      "\n",
      "Accuracy:  0.6378050738599872\n",
      "Confusion matrix:\n",
      "[[ 7216  5067  3521]\n",
      " [ 5600  9698  1622]\n",
      " [ 1252   984 14864]]\n"
     ]
    },
    {
     "data": {
      "image/png": "[encoded data removed]",
      "text/plain": [
       "<Figure size 1152x360 with 2 Axes>"
      ]
     },
     "metadata": {
      "needs_background": "light"
     },
     "output_type": "display_data"
    }
   ],
   "source": [
    "Evaluate_performance(model=dnn_model3, history=history, display=True)"
   ]
  },
  {
   "cell_type": "code",
   "execution_count": null,
   "id": "e9000078-a8a0-45b6-9410-2f5150f45478",
   "metadata": {},
   "outputs": [],
   "source": []
  }
 ],
 "metadata": {
  "kernelspec": {
   "display_name": "Tensorflow-2.7.0",
   "language": "python",
   "name": "tensorflow-2.7.0"
  },
  "language_info": {
   "codemirror_mode": {
    "name": "ipython",
    "version": 3
   },
   "file_extension": ".py",
   "mimetype": "text/x-python",
   "name": "python",
   "nbconvert_exporter": "python",
   "pygments_lexer": "ipython3",
   "version": "3.9.12"
  }
 },
 "nbformat": 4,
 "nbformat_minor": 5
}
